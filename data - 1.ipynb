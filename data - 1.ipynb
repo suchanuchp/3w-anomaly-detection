{
 "cells": [
  {
   "cell_type": "code",
   "execution_count": 1,
   "id": "1123392d",
   "metadata": {},
   "outputs": [],
   "source": [
    "%load_ext autoreload\n",
    "%autoreload 2\n",
    "import pandas as pd\n",
    "import numpy as np\n",
    "import matplotlib.pyplot as plt\n",
    "from shapelet_learning import utils\n",
    "import plotly.graph_objects as go\n",
    "from plotly.subplots import make_subplots\n",
    "from tqdm import tqdm\n",
    "def plot_by_instances(df_dict, start_idx, label, n=10):\n",
    "    for i, start in tqdm(enumerate(start_idx[label][:min(n-1, len(start_idx)-1)])):\n",
    "        fig = make_subplots(rows=8, cols=1, shared_xaxes=True,\n",
    "                            subplot_titles=COLS)\n",
    "        stop = start_idx[label][i+1]\n",
    "        poi = df_dict[label].iloc[start:stop]\n",
    "        well_name = poi.iloc[0].well\n",
    "        for icol, col in enumerate(COLS):\n",
    "            \n",
    "            fig.append_trace(go.Scatter(x=poi.index, y=poi[col], mode='lines', \n",
    "                                     name=col),\n",
    "                             row=icol+1, col=1)\n",
    "        fig.update_layout(\n",
    "            title=f\"Label {label}: {well_name}\", \n",
    "\n",
    "        )\n",
    "\n",
    "        warnings_ts = poi[poi['class']==label+100].index\n",
    "        if len(warnings_ts)>1:\n",
    "            fig.add_vrect(x0=warnings_ts[0], x1=warnings_ts[-1], \n",
    "#                   annotation_text=\"warning\", annotation_position=\"top left\",\n",
    "                  fillcolor=\"red\", opacity=0.25, line_width=0)\n",
    "        \n",
    "        # highlight abnormal section\n",
    "        if label != 0:\n",
    "            abnormal_ts = poi[poi['class']==label].index\n",
    "            if len(abnormal_ts)>1:\n",
    "                fig.add_vrect(x0=abnormal_ts[0], x1=abnormal_ts[-1], \n",
    "    #                   annotation_text=\"abnormal\", annotation_position=\"top left\",\n",
    "                      fillcolor=\"red\", opacity=0.6, line_width=0)\n",
    "        fig.show()"
   ]
  },
  {
   "cell_type": "code",
   "execution_count": null,
   "id": "1b8d2c4e",
   "metadata": {},
   "outputs": [
    {
     "name": "stderr",
     "output_type": "stream",
     "text": [
      "\r",
      "  0%|                                                                                                                                                                                 | 0/9 [00:00<?, ?it/s]"
     ]
    }
   ],
   "source": [
    "real_instances, simulated_instances, drawn_instances = utils.get_all_labels_and_files()\n",
    "df_dict = utils.load_data_dict(real_instances, n_instances_per_label=300)\n",
    "df_0 = df_dict[0]"
   ]
  },
  {
   "cell_type": "code",
   "execution_count": null,
   "id": "7637475d",
   "metadata": {},
   "outputs": [],
   "source": [
    "def get_data(df, well):\n",
    "    # get normal data\n",
    "    features = ['P-PDG', 'P-TPT', 'T-TPT', 'P-MON-CKP', 'T-JUS-CKP', 'P-JUS-CKGL', 'T-JUS-CKGL', 'QGL']\n",
    "    df = df[df.well == well]\n",
    "    df = df[df['class'] == 0]\n",
    "    valid_features = []\n",
    "    n_steps = df.shape[0]\n",
    "    for feature in features:\n",
    "        if np.sum(np.isnan(df[feature])) < (n_steps // 2):\n",
    "            valid_features.append(feature)\n",
    "            df = df[df[feature].notna()]\n",
    "        else:\n",
    "            df = df.drop(columns=[feature])\n",
    "    ids = df.id.unique()\n",
    "    for _id in ids:\n",
    "        idx = df[df.id == _id].index[0]\n",
    "        df.at[idx, 'start'] = 1\n",
    "    valid_features.append('start')\n",
    "    print(valid_features)\n",
    "    df = df.reset_index()\n",
    "    df = df[valid_features]\n",
    "    df.index.names = ['timestamp']\n",
    "    df['attack'] = 0\n",
    "    return df, valid_features[:-1]\n",
    "\n",
    "\n",
    "def write_list(features, path):\n",
    "    f = open(path, \"w\")\n",
    "    for feature in features[:-1]:\n",
    "        f.write(feature+'\\n')\n",
    "    f.write(features[-1])\n",
    "    f.close()"
   ]
  },
  {
   "cell_type": "code",
   "execution_count": null,
   "id": "461cbd02",
   "metadata": {},
   "outputs": [],
   "source": [
    "import os\n",
    "for well in df_0.well.unique():\n",
    "    print(well)\n",
    "    outdir = f'data/{well}'\n",
    "    if not os.path.exists(outdir):\n",
    "        os.mkdir(outdir)\n",
    "    df_well, features = get_data(df_0, well)\n",
    "#     df_well.to_csv(f'data/{well}/all.csv')\n",
    "    \n",
    "    first_test_idx = df_well[df_well.start == 1].index[-1]\n",
    "    df_train = df_well[:first_test_idx]\n",
    "    df_test = df_well[first_test_idx:]\n",
    "    df_test = df_test.reset_index()\n",
    "    df_test = df_test.drop(columns=['timestamp'])\n",
    "    df_test['attack'] = 0\n",
    "    df_test.index.names = ['timestamp']\n",
    "#     df_train.to_csv(f'data/{well}/train.csv')\n",
    "    df_test.to_csv(f'data/{well}/test.csv')   \n",
    "    \n",
    "#     write_list(features=features, path=f'data/{well}/list.txt')"
   ]
  }
 ],
 "metadata": {
  "kernelspec": {
   "display_name": "Python 3 (ipykernel)",
   "language": "python",
   "name": "python3"
  },
  "language_info": {
   "codemirror_mode": {
    "name": "ipython",
    "version": 3
   },
   "file_extension": ".py",
   "mimetype": "text/x-python",
   "name": "python",
   "nbconvert_exporter": "python",
   "pygments_lexer": "ipython3",
   "version": "3.8.15"
  }
 },
 "nbformat": 4,
 "nbformat_minor": 5
}
